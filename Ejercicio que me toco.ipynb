{
 "cells": [
  {
   "cell_type": "markdown",
   "metadata": {},
   "source": [
    "Grafica las siguientes funciones y establece cual es el dominimio y la imagen de cada una:\n",
    "        $$f_1(x)= (x+2)(x^{2}-1)$$\n",
    "        $$f_2(x)= \\left (\\frac{x}{2}\\right )^{\\frac{2}{3}}(2-\\left (\\frac{x}{2}\\right ))^{\\frac{2}{3}}$$"
   ]
  },
  {
   "cell_type": "code",
   "execution_count": 2,
   "metadata": {},
   "outputs": [],
   "source": [
    "import matplotlib.pyplot as plt"
   ]
  },
  {
   "cell_type": "code",
   "execution_count": 5,
   "metadata": {},
   "outputs": [
    {
     "data": {
      "image/png": "[encoded data removed]",
      "text/plain": [
       "<Figure size 432x288 with 1 Axes>"
      ]
     },
     "metadata": {
      "needs_background": "light"
     },
     "output_type": "display_data"
    }
   ],
   "source": [
    "from matplotlib import pyplot\n",
    "\n",
    "def f1(x):\n",
    "    return (x+2)*(x**2 -1)\n",
    "\n",
    "x = range(-50, 50)\n",
    "\n",
    "pyplot.plot(x, [f1(i) for i in x])\n",
    "\n",
    "\n",
    "pyplot.axhline(0, color=\"black\")\n",
    "pyplot.axvline(0, color=\"black\")\n",
    "\n",
    "\n",
    "pyplot.xlim(-50, 50)\n",
    "pyplot.ylim(-50, 50)\n",
    "\n",
    "pyplot.show()"
   ]
  },
  {
   "cell_type": "code",
   "execution_count": 6,
   "metadata": {},
   "outputs": [
    {
     "name": "stdout",
     "output_type": "stream",
     "text": [
      "De acuerdo a la grafica el dominio y el rango se encuentran  en los reales\n"
     ]
    }
   ],
   "source": [
    " print (\"De acuerdo a la grafica el dominio y el rango se encuentran  en los reales\")"
   ]
  },
  {
   "cell_type": "code",
   "execution_count": 7,
   "metadata": {},
   "outputs": [
    {
     "data": {
      "image/png": "[encoded data removed]",
      "text/plain": [
       "<Figure size 432x288 with 1 Axes>"
      ]
     },
     "metadata": {
      "needs_background": "light"
     },
     "output_type": "display_data"
    }
   ],
   "source": [
    "from matplotlib import pyplot\n",
    "\n",
    "def f2(x):\n",
    "    return (x/2)**2/3 * (2 - x/2)**2/3\n",
    "\n",
    "x = range(-50, 50)\n",
    "\n",
    "pyplot.plot(x, [f2(i) for i in x])\n",
    "\n",
    "\n",
    "pyplot.axhline(0, color=\"black\")\n",
    "pyplot.axvline(0, color=\"black\")\n",
    "\n",
    "\n",
    "pyplot.xlim(-50, 50)\n",
    "pyplot.ylim(-50, 50)\n",
    "\n",
    "pyplot.show()"
   ]
  },
  {
   "cell_type": "code",
   "execution_count": 8,
   "metadata": {},
   "outputs": [
    {
     "name": "stdout",
     "output_type": "stream",
     "text": [
      "De acuerdo a la grafica el dominio es [0,4] y el rango de [0,1] y ambos pertenecen a los reales\n"
     ]
    }
   ],
   "source": [
    "print (\"De acuerdo a la grafica el dominio es [0,4] y el rango de [0,1] y ambos pertenecen a los reales\")"
   ]
  },
  {
   "cell_type": "code",
   "execution_count": null,
   "metadata": {},
   "outputs": [],
   "source": []
  }
 ],
 "metadata": {
  "kernelspec": {
   "display_name": "Python 3",
   "language": "python",
   "name": "python3"
  },
  "language_info": {
   "codemirror_mode": {
    "name": "ipython",
    "version": 3
   },
   "file_extension": ".py",
   "mimetype": "text/x-python",
   "name": "python",
   "nbconvert_exporter": "python",
   "pygments_lexer": "ipython3",
   "version": "3.8.3"
  }
 },
 "nbformat": 4,
 "nbformat_minor": 4
}
