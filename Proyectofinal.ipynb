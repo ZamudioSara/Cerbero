{
  "nbformat": 4,
  "nbformat_minor": 0,
  "metadata": {
    "colab": {
      "name": "Proyectofinal.ipynb",
      "provenance": [],
      "collapsed_sections": []
    },
    "kernelspec": {
      "name": "python3",
      "display_name": "Python 3"
    }
  },
  "cells": [
    {
      "cell_type": "markdown",
      "metadata": {
        "id": "O6DBL62YRw5X"
      },
      "source": [
        "Metodo de Newton-Raphson"
      ]
    },
    {
      "cell_type": "code",
      "metadata": {
        "id": "n1ERQhOoRrFZ"
      },
      "source": [
        "import numpy as np\r\n",
        "\r\n",
        "import matplotlib.pyplot as plt\r\n",
        "\r\n",
        "import math as mt\r\n",
        "\r\n"
      ],
      "execution_count": 1,
      "outputs": []
    },
    {
      "cell_type": "markdown",
      "metadata": {
        "id": "x9TkCl2PHN-Y"
      },
      "source": [
        "Hallar la raiz de la funcion $x-sen^2(x)-cos(x)$\r\n",
        "\r\n",
        "Derivada:\r\n",
        "\r\n",
        "$1-2sen(x)\\cdot cos(x) +sen(x)$"
      ]
    },
    {
      "cell_type": "code",
      "metadata": {
        "colab": {
          "base_uri": "https://localhost:8080/",
          "height": 265
        },
        "id": "GvuX1MqOA1h1",
        "outputId": "2310ff5d-5998-450b-ff6a-79b5e7caafcf"
      },
      "source": [
        "#Primero graficamos la funcion para averiguar una aproximacion a la raiz:\r\n",
        "\r\n",
        "x=np.linspace(0, 5, 100)\r\n",
        "plt.plot(x,x-np.sin(x)*np.sin(x)-np.cos(x))\r\n",
        "plt.grid()\r\n",
        "plt.show()"
      ],
      "execution_count": 2,
      "outputs": [
        {
          "output_type": "display_data",
          "data": {
            "image/png": "[encoded data removed]",
            "text/plain": [
              "<Figure size 432x288 with 1 Axes>"
            ]
          },
          "metadata": {
            "tags": [],
            "needs_background": "light"
          }
        }
      ]
    },
    {
      "cell_type": "code",
      "metadata": {
        "colab": {
          "base_uri": "https://localhost:8080/",
          "height": 529
        },
        "id": "i2qcZnqbH4A-",
        "outputId": "bdb3b3f4-9bb5-4ea0-981a-773c12ca8a69"
      },
      "source": [
        "\r\n",
        "#como hemos visto la grafica entonces un valor sugerido para la aproximacion es 1\r\n",
        "x0=float(input(\"Da la aproximacion:\"))\r\n",
        "\r\n",
        "y=int(input(\"Da el numero de  iteraciones:\"))\r\n",
        "def f(x):\r\n",
        "    return x-np.sin(x)*np.sin(x)-np.cos(x)\r\n",
        "\r\n",
        "def Df(x):\r\n",
        "    return 1-2*np.sin(x)*np.cos(x)+np.sin(x)  \r\n",
        "\r\n",
        "i=1\r\n",
        "fx = []\r\n",
        "c= []\r\n",
        "for ceros in range(y):\r\n",
        "    s = 0\r\n",
        "    c.append(s)\r\n",
        "#aqui damos el numero de iteraciones, las cuales seran introducidas por el usuario\r\n",
        "for iteracion in range(1,y+1):\r\n",
        "    x1=x0-f(x0)/Df(x0) #se aplica el metodo de Newton raphson\r\n",
        "    x0=x1 #x0 ahora vale lo que valia x1 es decir se empieza a iterar\r\n",
        "    \r\n",
        "    fx.append(x1)\r\n",
        "\r\n",
        "    print(\"la iteracion numero\",i,\"da la raiz aproximada:\",x0)\r\n",
        "    i= i+1\r\n"
      ],
      "execution_count": 3,
      "outputs": [
        {
          "output_type": "error",
          "ename": "KeyboardInterrupt",
          "evalue": "ignored",
          "traceback": [
            "\u001b[0;31m---------------------------------------------------------------------------\u001b[0m",
            "\u001b[0;31mKeyboardInterrupt\u001b[0m                         Traceback (most recent call last)",
            "\u001b[0;32m/usr/local/lib/python3.6/dist-packages/ipykernel/kernelbase.py\u001b[0m in \u001b[0;36m_input_request\u001b[0;34m(self, prompt, ident, parent, password)\u001b[0m\n\u001b[1;32m    728\u001b[0m             \u001b[0;32mtry\u001b[0m\u001b[0;34m:\u001b[0m\u001b[0;34m\u001b[0m\u001b[0;34m\u001b[0m\u001b[0m\n\u001b[0;32m--> 729\u001b[0;31m                 \u001b[0mident\u001b[0m\u001b[0;34m,\u001b[0m \u001b[0mreply\u001b[0m \u001b[0;34m=\u001b[0m \u001b[0mself\u001b[0m\u001b[0;34m.\u001b[0m\u001b[0msession\u001b[0m\u001b[0;34m.\u001b[0m\u001b[0mrecv\u001b[0m\u001b[0;34m(\u001b[0m\u001b[0mself\u001b[0m\u001b[0;34m.\u001b[0m\u001b[0mstdin_socket\u001b[0m\u001b[0;34m,\u001b[0m \u001b[0;36m0\u001b[0m\u001b[0;34m)\u001b[0m\u001b[0;34m\u001b[0m\u001b[0;34m\u001b[0m\u001b[0m\n\u001b[0m\u001b[1;32m    730\u001b[0m             \u001b[0;32mexcept\u001b[0m \u001b[0mException\u001b[0m\u001b[0;34m:\u001b[0m\u001b[0;34m\u001b[0m\u001b[0;34m\u001b[0m\u001b[0m\n",
            "\u001b[0;32m/usr/local/lib/python3.6/dist-packages/jupyter_client/session.py\u001b[0m in \u001b[0;36mrecv\u001b[0;34m(self, socket, mode, content, copy)\u001b[0m\n\u001b[1;32m    802\u001b[0m         \u001b[0;32mtry\u001b[0m\u001b[0;34m:\u001b[0m\u001b[0;34m\u001b[0m\u001b[0;34m\u001b[0m\u001b[0m\n\u001b[0;32m--> 803\u001b[0;31m             \u001b[0mmsg_list\u001b[0m \u001b[0;34m=\u001b[0m \u001b[0msocket\u001b[0m\u001b[0;34m.\u001b[0m\u001b[0mrecv_multipart\u001b[0m\u001b[0;34m(\u001b[0m\u001b[0mmode\u001b[0m\u001b[0;34m,\u001b[0m \u001b[0mcopy\u001b[0m\u001b[0;34m=\u001b[0m\u001b[0mcopy\u001b[0m\u001b[0;34m)\u001b[0m\u001b[0;34m\u001b[0m\u001b[0;34m\u001b[0m\u001b[0m\n\u001b[0m\u001b[1;32m    804\u001b[0m         \u001b[0;32mexcept\u001b[0m \u001b[0mzmq\u001b[0m\u001b[0;34m.\u001b[0m\u001b[0mZMQError\u001b[0m \u001b[0;32mas\u001b[0m \u001b[0me\u001b[0m\u001b[0;34m:\u001b[0m\u001b[0;34m\u001b[0m\u001b[0;34m\u001b[0m\u001b[0m\n",
            "\u001b[0;32m/usr/local/lib/python3.6/dist-packages/zmq/sugar/socket.py\u001b[0m in \u001b[0;36mrecv_multipart\u001b[0;34m(self, flags, copy, track)\u001b[0m\n\u001b[1;32m    582\u001b[0m         \"\"\"\n\u001b[0;32m--> 583\u001b[0;31m         \u001b[0mparts\u001b[0m \u001b[0;34m=\u001b[0m \u001b[0;34m[\u001b[0m\u001b[0mself\u001b[0m\u001b[0;34m.\u001b[0m\u001b[0mrecv\u001b[0m\u001b[0;34m(\u001b[0m\u001b[0mflags\u001b[0m\u001b[0;34m,\u001b[0m \u001b[0mcopy\u001b[0m\u001b[0;34m=\u001b[0m\u001b[0mcopy\u001b[0m\u001b[0;34m,\u001b[0m \u001b[0mtrack\u001b[0m\u001b[0;34m=\u001b[0m\u001b[0mtrack\u001b[0m\u001b[0;34m)\u001b[0m\u001b[0;34m]\u001b[0m\u001b[0;34m\u001b[0m\u001b[0;34m\u001b[0m\u001b[0m\n\u001b[0m\u001b[1;32m    584\u001b[0m         \u001b[0;31m# have first part already, only loop while more to receive\u001b[0m\u001b[0;34m\u001b[0m\u001b[0;34m\u001b[0m\u001b[0;34m\u001b[0m\u001b[0m\n",
            "\u001b[0;32mzmq/backend/cython/socket.pyx\u001b[0m in \u001b[0;36mzmq.backend.cython.socket.Socket.recv\u001b[0;34m()\u001b[0m\n",
            "\u001b[0;32mzmq/backend/cython/socket.pyx\u001b[0m in \u001b[0;36mzmq.backend.cython.socket.Socket.recv\u001b[0;34m()\u001b[0m\n",
            "\u001b[0;32mzmq/backend/cython/socket.pyx\u001b[0m in \u001b[0;36mzmq.backend.cython.socket._recv_copy\u001b[0;34m()\u001b[0m\n",
            "\u001b[0;32m/usr/local/lib/python3.6/dist-packages/zmq/backend/cython/checkrc.pxd\u001b[0m in \u001b[0;36mzmq.backend.cython.checkrc._check_rc\u001b[0;34m()\u001b[0m\n",
            "\u001b[0;31mKeyboardInterrupt\u001b[0m: ",
            "\nDuring handling of the above exception, another exception occurred:\n",
            "\u001b[0;31mKeyboardInterrupt\u001b[0m                         Traceback (most recent call last)",
            "\u001b[0;32m<ipython-input-3-104fb355678c>\u001b[0m in \u001b[0;36m<module>\u001b[0;34m()\u001b[0m\n\u001b[1;32m      1\u001b[0m \u001b[0;34m\u001b[0m\u001b[0m\n\u001b[1;32m      2\u001b[0m \u001b[0;31m#como hemos visto la grafica entonces un valor sugerido para la aproximacion es 1\u001b[0m\u001b[0;34m\u001b[0m\u001b[0;34m\u001b[0m\u001b[0;34m\u001b[0m\u001b[0m\n\u001b[0;32m----> 3\u001b[0;31m \u001b[0mx0\u001b[0m\u001b[0;34m=\u001b[0m\u001b[0mfloat\u001b[0m\u001b[0;34m(\u001b[0m\u001b[0minput\u001b[0m\u001b[0;34m(\u001b[0m\u001b[0;34m\"Da la aproximacion:\"\u001b[0m\u001b[0;34m)\u001b[0m\u001b[0;34m)\u001b[0m\u001b[0;34m\u001b[0m\u001b[0;34m\u001b[0m\u001b[0m\n\u001b[0m\u001b[1;32m      4\u001b[0m \u001b[0;34m\u001b[0m\u001b[0m\n\u001b[1;32m      5\u001b[0m \u001b[0my\u001b[0m\u001b[0;34m=\u001b[0m\u001b[0mint\u001b[0m\u001b[0;34m(\u001b[0m\u001b[0minput\u001b[0m\u001b[0;34m(\u001b[0m\u001b[0;34m\"Da el numero de  iteraciones:\"\u001b[0m\u001b[0;34m)\u001b[0m\u001b[0;34m)\u001b[0m\u001b[0;34m\u001b[0m\u001b[0;34m\u001b[0m\u001b[0m\n",
            "\u001b[0;32m/usr/local/lib/python3.6/dist-packages/ipykernel/kernelbase.py\u001b[0m in \u001b[0;36mraw_input\u001b[0;34m(self, prompt)\u001b[0m\n\u001b[1;32m    702\u001b[0m             \u001b[0mself\u001b[0m\u001b[0;34m.\u001b[0m\u001b[0m_parent_ident\u001b[0m\u001b[0;34m,\u001b[0m\u001b[0;34m\u001b[0m\u001b[0;34m\u001b[0m\u001b[0m\n\u001b[1;32m    703\u001b[0m             \u001b[0mself\u001b[0m\u001b[0;34m.\u001b[0m\u001b[0m_parent_header\u001b[0m\u001b[0;34m,\u001b[0m\u001b[0;34m\u001b[0m\u001b[0;34m\u001b[0m\u001b[0m\n\u001b[0;32m--> 704\u001b[0;31m             \u001b[0mpassword\u001b[0m\u001b[0;34m=\u001b[0m\u001b[0;32mFalse\u001b[0m\u001b[0;34m,\u001b[0m\u001b[0;34m\u001b[0m\u001b[0;34m\u001b[0m\u001b[0m\n\u001b[0m\u001b[1;32m    705\u001b[0m         )\n\u001b[1;32m    706\u001b[0m \u001b[0;34m\u001b[0m\u001b[0m\n",
            "\u001b[0;32m/usr/local/lib/python3.6/dist-packages/ipykernel/kernelbase.py\u001b[0m in \u001b[0;36m_input_request\u001b[0;34m(self, prompt, ident, parent, password)\u001b[0m\n\u001b[1;32m    732\u001b[0m             \u001b[0;32mexcept\u001b[0m \u001b[0mKeyboardInterrupt\u001b[0m\u001b[0;34m:\u001b[0m\u001b[0;34m\u001b[0m\u001b[0;34m\u001b[0m\u001b[0m\n\u001b[1;32m    733\u001b[0m                 \u001b[0;31m# re-raise KeyboardInterrupt, to truncate traceback\u001b[0m\u001b[0;34m\u001b[0m\u001b[0;34m\u001b[0m\u001b[0;34m\u001b[0m\u001b[0m\n\u001b[0;32m--> 734\u001b[0;31m                 \u001b[0;32mraise\u001b[0m \u001b[0mKeyboardInterrupt\u001b[0m\u001b[0;34m\u001b[0m\u001b[0;34m\u001b[0m\u001b[0m\n\u001b[0m\u001b[1;32m    735\u001b[0m             \u001b[0;32melse\u001b[0m\u001b[0;34m:\u001b[0m\u001b[0;34m\u001b[0m\u001b[0;34m\u001b[0m\u001b[0m\n\u001b[1;32m    736\u001b[0m                 \u001b[0;32mbreak\u001b[0m\u001b[0;34m\u001b[0m\u001b[0;34m\u001b[0m\u001b[0m\n",
            "\u001b[0;31mKeyboardInterrupt\u001b[0m: "
          ]
        }
      ]
    },
    {
      "cell_type": "code",
      "metadata": {
        "id": "yIWnlI0ZfcFw"
      },
      "source": [
        "x=np.linspace(0, 5, 100)\r\n",
        "plt.plot(x,x-np.sin(x)*np.sin(x)-np.cos(x))\r\n",
        "plt.plot(fx,c,'o')\r\n",
        "\r\n",
        "plt.grid()\r\n",
        "plt.axhline(0,color='black')\r\n",
        "plt.axvline(0,color='black')\r\n",
        "plt.show()"
      ],
      "execution_count": null,
      "outputs": []
    },
    {
      "cell_type": "markdown",
      "metadata": {
        "id": "D90r2eH_ocN6"
      },
      "source": [
        "Hallar la raiz de la la ecuacion $f(x)=x^x-100$"
      ]
    },
    {
      "cell_type": "markdown",
      "metadata": {
        "id": "Z6OkLR-5MnJO"
      },
      "source": [
        "Derivada:\r\n",
        "Tenemos que $x^x=e^{xln(x)}$\r\n",
        "\r\n",
        "Luego $\\frac{d}{dx}(e^{xln(x)}-100)=e^{xln(x)}\\cdot \\frac{d}{dx}(xln(x))=e^{xln(x)}\\cdot(1\\cdot ln(x)+x\\cdot \\frac{1}{x})$\r\n",
        "\r\n",
        "por lo que $\\frac{d}{dx}(x^x-100)=x^{x}(ln(x)+1)$"
      ]
    },
    {
      "cell_type": "code",
      "metadata": {
        "id": "xdyyrCQbqPV1"
      },
      "source": [
        "#Primero graficamos la funcion para averiguar una aproximacion a la raiz:\r\n",
        "\r\n",
        "x=np.linspace(0, 5, 100)\r\n",
        "plt.plot(x,x**x-100)\r\n",
        "plt.grid()\r\n",
        "plt.show()"
      ],
      "execution_count": null,
      "outputs": []
    },
    {
      "cell_type": "code",
      "metadata": {
        "colab": {
          "base_uri": "https://localhost:8080/"
        },
        "id": "rAyfkANmNQx5",
        "outputId": "ea39a845-6d6f-4f29-c90f-c58e1b48308b"
      },
      "source": [
        "#como hemos visto la grafica entonces un valor sugerido para la aproximacion es 3\r\n",
        "x0=float(input(\"Da la aproximacion:\"))\r\n",
        "\r\n",
        "y=int(input(\"Da el numero de  iteraciones:\"))\r\n",
        "def f(x):\r\n",
        "    return x**x-100\r\n",
        "\r\n",
        "def Df(x):\r\n",
        "    return x**x*(1+mt.log(x))   \r\n",
        "\r\n",
        "\r\n",
        "i=1\r\n",
        "\r\n",
        "fx = []\r\n",
        "c= []\r\n",
        "for ceros in range(y):\r\n",
        "    s = 0\r\n",
        "    c.append(s)\r\n",
        "#aqui damos el numero de iteraciones, las cuales seran dadas por el usuario\r\n",
        "for iteracion in range(1,y+1):\r\n",
        "    x1=x0-f(x0)/Df(x0) #se aplica el metodo de Newton raphson\r\n",
        "    x0=x1 #x0 ahora vale lo que valia x1 es decir se empieza a iterar\r\n",
        "    fx.append(x1) \r\n",
        "    \r\n",
        "    print(\"la iteracion numero\",i,\"da la raiz aproximada:\",x0)\r\n",
        "    i= i+1"
      ],
      "execution_count": 4,
      "outputs": [
        {
          "output_type": "stream",
          "text": [
            "Da la aproximacion:3\n",
            "Da el numero de  iteraciones:5\n",
            "la iteracion numero 1 da la raiz aproximada: 4.288329301368771\n",
            "la iteracion numero 2 da la raiz aproximada: 3.960274122501482\n",
            "la iteracion numero 3 da la raiz aproximada: 3.7201468281220955\n",
            "la iteracion numero 4 da la raiz aproximada: 3.6138725829666845\n",
            "la iteracion numero 5 da la raiz aproximada: 3.5976114822402887\n"
          ],
          "name": "stdout"
        }
      ]
    },
    {
      "cell_type": "code",
      "metadata": {
        "id": "Dh4uPrLh8leS",
        "colab": {
          "base_uri": "https://localhost:8080/",
          "height": 265
        },
        "outputId": "dd8c68d9-9711-4130-c15a-c71d8607a6c3"
      },
      "source": [
        "x=np.linspace(0, 5, 100)\r\n",
        "plt.plot(x,x**x-100)\r\n",
        "plt.plot(fx,c,'or')\r\n",
        "plt.grid()\r\n",
        "plt.axhline(0,color='black')\r\n",
        "plt.axvline(0,color='black')\r\n",
        "plt.show()"
      ],
      "execution_count": 5,
      "outputs": [
        {
          "output_type": "display_data",
          "data": {
            "image/png": "[encoded data removed]",
            "text/plain": [
              "<Figure size 432x288 with 1 Axes>"
            ]
          },
          "metadata": {
            "tags": [],
            "needs_background": "light"
          }
        }
      ]
    },
    {
      "cell_type": "markdown",
      "metadata": {
        "id": "pcjU_wcydBzu"
      },
      "source": [
        "Hallar la raiz de la ecuacion $sinx+cos^2x+cosx+2x^3$\r\n",
        "\r\n",
        "derivada: $cosx+2cosx(-senx)+6x^2$"
      ]
    },
    {
      "cell_type": "code",
      "metadata": {
        "id": "pP1wEDpifiUq"
      },
      "source": [
        "#Primero graficamos la funcion para averiguar una aproximacion a la raiz:\r\n",
        "\r\n",
        "x=np.linspace(-2, 2, 100)\r\n",
        "plt.plot(x,np.sin(x)+np.cos(x)*np.cos(x)+np.cos(x)+2*x**3)\r\n",
        "plt.grid()\r\n",
        "plt.show()"
      ],
      "execution_count": null,
      "outputs": []
    },
    {
      "cell_type": "code",
      "metadata": {
        "id": "jwuh87KJS-um"
      },
      "source": [
        "#como hemos visto la grafica entonces un valor sugerido para la aproximacion es -1\r\n",
        "x0=float(input(\"Da la aproximacion:\"))\r\n",
        "\r\n",
        "y=int(input(\"Da el numero de  iteraciones:\"))\r\n",
        "def f(x):\r\n",
        "    return np.sin(x)+np.cos(x)*np.cos(x)+np.cos(x)+2*x**3\r\n",
        "\r\n",
        "def Df(x):\r\n",
        "    return np.cos(x)-2*np.cos(x)*np.sin(x)+6*x**2  \r\n",
        "\r\n",
        "\r\n",
        "i=1\r\n",
        "fx = []\r\n",
        "c= []\r\n",
        "for ceros in range(y):\r\n",
        "    s = 0\r\n",
        "    c.append(s)\r\n",
        "#aqui damos el numero de iteraciones, las cuales seran introducidas por el usuario\r\n",
        "for iteracion in range(1,y+1):\r\n",
        "    x1=x0-f(x0)/Df(x0) #se aplica el metodo de Newton raphson\r\n",
        "    x0=x1 #x0 ahora vale lo que valia x1 es decir se empieza a iterar\r\n",
        "    fx.append(x1)\r\n",
        "    print(\"la iteracion numero\",i,\"da la raiz aproximada:\",x0)\r\n",
        "    i= i+1"
      ],
      "execution_count": null,
      "outputs": []
    },
    {
      "cell_type": "code",
      "metadata": {
        "id": "FAATvnjDjQF2"
      },
      "source": [
        "x=np.linspace(-2, 2, 1000)\r\n",
        "plt.plot(x,np.sin(x)+np.cos(x)*np.cos(x)+np.cos(x)+2*x**3)\r\n",
        "plt.plot(fx,c,'o')\r\n",
        "plt.grid()\r\n",
        "plt.axhline(0,color='black')\r\n",
        "plt.axvline(0,color='black')\r\n",
        "plt.show()"
      ],
      "execution_count": null,
      "outputs": []
    },
    {
      "cell_type": "markdown",
      "metadata": {
        "id": "fj5RSSrNgp5w"
      },
      "source": [
        "Encontrar la raiz de $x^x-sin^2x+cosx-29$\r\n",
        "\r\n",
        "derivada: \r\n",
        "\r\n",
        "recordemos que la derivada de $x^x=x^{x}(ln(x)+1)$\r\n",
        "\r\n",
        "Luego: $\\frac{d}{dx}(x^x-sin^2x+cosx-29)=x^x(ln(x)+1)-2(sin(x))(cosx)-sinx$"
      ]
    },
    {
      "cell_type": "code",
      "metadata": {
        "id": "1npuXTTSZPxi"
      },
      "source": [
        "#Primero graficamos la funcion para averiguar una aproximacion a la raiz:\r\n",
        "\r\n",
        "x=np.linspace(2.5, 3.5, 100)\r\n",
        "plt.plot(x,x**x-np.sin(x)*np.sin(x)+np.cos(x)-29)\r\n",
        "plt.grid()\r\n",
        "plt.show()"
      ],
      "execution_count": null,
      "outputs": []
    },
    {
      "cell_type": "code",
      "metadata": {
        "id": "_2sclWwkZQgx"
      },
      "source": [
        "#como hemos visto la grafica entonces un valor sugerido para la aproximacion es 3\r\n",
        "x0=float(input(\"Da la aproximacion:\"))\r\n",
        "\r\n",
        "y=int(input(\"Da el numero de  iteraciones:\"))\r\n",
        "def f(x):\r\n",
        "    return x**x-np.sin(x)*np.sin(x)+np.cos(x)-29\r\n",
        "\r\n",
        "def Df(x):\r\n",
        "    return x**x*(1+mt.log(x))-2*np.sin(x)*np.cos(x)-np.sin(x)\r\n",
        "\r\n",
        "\r\n",
        "i=1\r\n",
        "fx = [] \r\n",
        "c= []\r\n",
        "for ceros in range(y):\r\n",
        "    s = 0\r\n",
        "    c.append(s)\r\n",
        "#aqui damos el numero de iteraciones, las cuales seran introducidas por el usuario\r\n",
        "for iteracion in range(1,y+1):\r\n",
        "    x1=x0-f(x0)/Df(x0) #se aplica el metodo de Newton raphson\r\n",
        "    x0=x1 #x0 ahora vale lo que valia x1 es decir se empieza a iterar\r\n",
        "    fx.append(x1)\r\n",
        "    print(\"la iteracion numero\",i,\"da la raiz aproximada:\",x0)\r\n",
        "    i= i+1"
      ],
      "execution_count": null,
      "outputs": []
    },
    {
      "cell_type": "code",
      "metadata": {
        "id": "dvGpDS4gjvlJ"
      },
      "source": [
        "x=np.linspace(2.5, 3.5, 100)\r\n",
        "plt.plot(x,x**x-np.sin(x)*np.sin(x)+np.cos(x)-29)\r\n",
        "plt.plot(fx,c,'o')\r\n",
        "plt.grid()\r\n",
        "plt.axhline(0,color='black')\r\n",
        "plt.axvline(0,color='black')\r\n",
        "plt.show()"
      ],
      "execution_count": null,
      "outputs": []
    },
    {
      "cell_type": "markdown",
      "metadata": {
        "id": "s8geQZrDs_WR"
      },
      "source": [
        "Hallar la raiz de la funcion $x^{3}+3x^{2}+2x+x$\r\n",
        "\r\n",
        "Derivada: $3x^2+6x+2$"
      ]
    },
    {
      "cell_type": "code",
      "metadata": {
        "id": "PgjRclTFt8Td"
      },
      "source": [
        "#Primero graficamos la funcion para averiguar una aproximacion a la raiz:\r\n",
        "\r\n",
        "x=np.linspace(-2, 2, 100)\r\n",
        "plt.plot(x,x**3+3*x**2+2*x+x)\r\n",
        "plt.grid()\r\n",
        "plt.show()"
      ],
      "execution_count": null,
      "outputs": []
    },
    {
      "cell_type": "code",
      "metadata": {
        "id": "RvMZLso-ZUUE"
      },
      "source": [
        "#como hemos visto la grafica entonces un valor sugerido para la aproximacion es 0.5\r\n",
        "x0=float(input(\"Da la aproximacion:\"))\r\n",
        "\r\n",
        "y=int(input(\"Da el numero de  iteraciones:\"))\r\n",
        "def f(x):\r\n",
        "    return x**3+3*x**2+2*x+x\r\n",
        "\r\n",
        "def Df(x):\r\n",
        "    return 3*x**2+6*x+2\r\n",
        "\r\n",
        "\r\n",
        "i=1\r\n",
        "fx = [] \r\n",
        "c= []\r\n",
        "for ceros in range(y):\r\n",
        "    s = 0\r\n",
        "    c.append(s)\r\n",
        "#aqui damos el numero de iteraciones, las cuales seran introducidas por el usuario\r\n",
        "for iteracion in range(1,y+1):\r\n",
        "    x1=x0-f(x0)/Df(x0) #se aplica el metodo de Newton raphson\r\n",
        "    x0=x1 #x0 ahora vale lo que valia x1 es decir se empieza a iterar\r\n",
        "    fx.append(x1)\r\n",
        "    print(\"la iteracion numero\",i,\"da la raiz aproximada:\",x0)\r\n",
        "    i= i+1"
      ],
      "execution_count": null,
      "outputs": []
    },
    {
      "cell_type": "code",
      "metadata": {
        "id": "4b7DKH-lOFOz"
      },
      "source": [
        "x=np.linspace(-2, 2, 100)\r\n",
        "plt.plot(x,x**3+3*x**2+2*x+x)\r\n",
        "plt.plot(fx,c,'o')\r\n",
        "plt.grid()\r\n",
        "plt.axhline(0,color='black')\r\n",
        "plt.axvline(0,color='black')\r\n",
        "plt.show()"
      ],
      "execution_count": null,
      "outputs": []
    },
    {
      "cell_type": "markdown",
      "metadata": {
        "id": "dyBidl352Kdh"
      },
      "source": [
        "Encontrar la raiz de la funcion $3x^3+3x+4$\r\n",
        "\r\n",
        "Derivada: $9x^2+3$"
      ]
    },
    {
      "cell_type": "code",
      "metadata": {
        "id": "GsIMzpQbuHSN"
      },
      "source": [
        "#Primero graficamos la funcion para averiguar una aproximacion a la raiz:\r\n",
        "\r\n",
        "x=np.linspace(-2, 2, 100)\r\n",
        "plt.plot(x,3*x**3+3*x+4)\r\n",
        "plt.grid()\r\n",
        "plt.show()"
      ],
      "execution_count": null,
      "outputs": []
    },
    {
      "cell_type": "code",
      "metadata": {
        "id": "Z9DMiTU6xF9G"
      },
      "source": [
        "#como hemos visto la grafica entonces un valor sugerido para la aproximacion es -1\r\n",
        "x0=float(input(\"Da la aproximacion:\"))\r\n",
        "\r\n",
        "y=int(input(\"Da el numero de  iteraciones:\"))\r\n",
        "def f(x):\r\n",
        "    return 3*x**3+3*x+4\r\n",
        "\r\n",
        "def Df(x):\r\n",
        "    return 9*x**2+3\r\n",
        "\r\n",
        "\r\n",
        "i=1\r\n",
        "fx = [] \r\n",
        "c= []\r\n",
        "for ceros in range(y):\r\n",
        "    s = 0\r\n",
        "    c.append(s)\r\n",
        "#aqui damos el numero de iteraciones, las cuales seran introducidas por el usuario\r\n",
        "for iteracion in range(1,y+1):\r\n",
        "    x1=x0-f(x0)/Df(x0) #se aplica el metodo de Newton raphson\r\n",
        "    x0=x1 #x0 ahora vale lo que valia x1 es decir se empieza a iterar\r\n",
        "    fx.append(x1)\r\n",
        "    print(\"la iteracion numero\",i,\"da la raiz aproximada:\",x0)\r\n",
        "    i= i+1"
      ],
      "execution_count": null,
      "outputs": []
    },
    {
      "cell_type": "code",
      "metadata": {
        "id": "VAKXn8j1q56K"
      },
      "source": [
        "x=np.linspace(-2, 2, 100)\r\n",
        "plt.plot(x,3*x**3+3*x+4)\r\n",
        "plt.plot(fx,c,'o')\r\n",
        "plt.grid()\r\n",
        "plt.axhline(0,color='black')\r\n",
        "plt.axvline(0,color='black')\r\n",
        "plt.show()"
      ],
      "execution_count": null,
      "outputs": []
    },
    {
      "cell_type": "markdown",
      "metadata": {
        "id": "kEkt5ZOW71Hs"
      },
      "source": [
        "Encontrar la raiz de la funcion $4^{3x}-4$\r\n",
        "\r\n",
        "Derivada: $3\\cdot 4^{3x}\\cdot ln(4)$"
      ]
    },
    {
      "cell_type": "code",
      "metadata": {
        "id": "8BeY_AgR6r0S"
      },
      "source": [
        "#Primero graficamos la funcion para averiguar una aproximacion a la raiz:\r\n",
        "\r\n",
        "x=np.linspace(0.2, 0.5, 100)\r\n",
        "plt.plot(x,4**(3*x)-4)\r\n",
        "plt.grid()\r\n",
        "plt.show()"
      ],
      "execution_count": null,
      "outputs": []
    },
    {
      "cell_type": "code",
      "metadata": {
        "id": "EOjUP9bR_EhP"
      },
      "source": [
        "#como hemos visto la grafica entonces un valor sugerido para la aproximacion es 0.35\r\n",
        "x0=float(input(\"Da la aproximacion:\"))\r\n",
        "\r\n",
        "y=int(input(\"Da el numero de  iteraciones:\"))\r\n",
        "def f(x):\r\n",
        "    return 4**(3*x)-4\r\n",
        "\r\n",
        "def Df(x):\r\n",
        "    return 3*mt.log(4)*4**(3*x)\r\n",
        "\r\n",
        "\r\n",
        "i=1\r\n",
        "fx = [] \r\n",
        "c= []\r\n",
        "for ceros in range(y):\r\n",
        "    s = 0\r\n",
        "    c.append(s)\r\n",
        "#aqui damos el numero de iteraciones, las cuales seran introducidas por el usuario\r\n",
        "for iteracion in range(1,y+1):\r\n",
        "    x1=x0-f(x0)/Df(x0) #se aplica el metodo de Newton raphson\r\n",
        "    x0=x1 #x0 ahora vale lo que valia x1 es decir se empieza a iterar\r\n",
        "    fx.append(x1)\r\n",
        "    \r\n",
        "    print(\"la iteracion numero\",i,\"da la raiz aproximada:\",x0)\r\n",
        "    i= i+1"
      ],
      "execution_count": null,
      "outputs": []
    },
    {
      "cell_type": "code",
      "metadata": {
        "id": "cYc0ILkVrXHj"
      },
      "source": [
        "x=np.linspace(0.2, 0.5, 100)\r\n",
        "plt.plot(x,4**(3*x)-4)\r\n",
        "plt.plot(fx,c,'o')\r\n",
        "plt.grid()\r\n",
        "plt.axhline(0,color='black')\r\n",
        "plt.axvline(0,color='black')\r\n",
        "plt.show()"
      ],
      "execution_count": null,
      "outputs": []
    },
    {
      "cell_type": "markdown",
      "metadata": {
        "id": "3pTQ860gC8lH"
      },
      "source": [
        "Hallar la raiz de la funcion $4^{4+9x}-10$\r\n",
        "\r\n",
        "Derivada: $9\\cdot ln(4)\\cdot 4^{4+9x}$"
      ]
    },
    {
      "cell_type": "code",
      "metadata": {
        "id": "v77gU71iBxbX"
      },
      "source": [
        "#Primero graficamos la funcion para averiguar una aproximacion a la raiz:\r\n",
        "\r\n",
        "x=np.linspace(-1, 0, 100)\r\n",
        "plt.plot(x,4**(9*x+4)-10)\r\n",
        "plt.grid()\r\n",
        "plt.show()"
      ],
      "execution_count": null,
      "outputs": []
    },
    {
      "cell_type": "code",
      "metadata": {
        "id": "4Nsjvf7eDLdU"
      },
      "source": [
        "#como hemos visto la grafica entonces un valor sugerido para la aproximacion es -0.2\r\n",
        "x0=float(input(\"Da la aproximacion:\"))\r\n",
        "\r\n",
        "y=int(input(\"Da el numero de  iteraciones:\"))\r\n",
        "def f(x):\r\n",
        "    return 4**(9*x+4)-10\r\n",
        "\r\n",
        "def Df(x):\r\n",
        "    return 9*(mt.log(4))*(4**(9*x+4))\r\n",
        "\r\n",
        "\r\n",
        "i=1\r\n",
        "fx = [] \r\n",
        "c= []\r\n",
        "for ceros in range(y):\r\n",
        "    s = 0\r\n",
        "    c.append(s)\r\n",
        "#aqui damos el numero de iteraciones, las cuales seran introducidas por el usuario\r\n",
        "for iteracion in range(1,y+1):\r\n",
        "    x1=x0-f(x0)/Df(x0) #se aplica el metodo de Newton raphson\r\n",
        "    x0=x1 #x0 ahora vale lo que valia x1 es decir se empieza a iterar\r\n",
        "    fx.append(x1)\r\n",
        "  \r\n",
        "    print(\"la iteracion numero\",i,\"da la raiz aproximada:\",x0)\r\n",
        "    i= i+1"
      ],
      "execution_count": null,
      "outputs": []
    },
    {
      "cell_type": "code",
      "metadata": {
        "id": "TNOu7axXr-j9"
      },
      "source": [
        "x=np.linspace(-1, 0, 100)\r\n",
        "plt.plot(x,4**(9*x+4)-10)\r\n",
        "plt.plot(fx,c,'o')\r\n",
        "plt.grid()\r\n",
        "plt.axhline(0,color='black')\r\n",
        "plt.axvline(0,color='black')\r\n",
        "plt.show()"
      ],
      "execution_count": null,
      "outputs": []
    },
    {
      "cell_type": "markdown",
      "metadata": {
        "id": "lnfnfcobKf-V"
      },
      "source": [
        "Encontrar las raices del polinomio $3x^{2}+2x-100$\r\n",
        "\r\n",
        "Derivada: $6x+2$"
      ]
    },
    {
      "cell_type": "code",
      "metadata": {
        "id": "BUNdxq63EIsY"
      },
      "source": [
        "#Primero graficamos la funcion para averiguar una aproximacion a la raiz:\r\n",
        "\r\n",
        "x=np.linspace(-7, 7, 100)\r\n",
        "plt.plot(x,3*x**2+2*x-100)\r\n",
        "plt.grid()\r\n",
        "plt.show()"
      ],
      "execution_count": null,
      "outputs": []
    },
    {
      "cell_type": "code",
      "metadata": {
        "id": "brysEyWyLBbV"
      },
      "source": [
        "#como hemos visto la grafica entonces un valor sugerido para la aproximacion es 6 para la primera raiz y -6 para la segunda, el metodo encuentra la raiz \"mas cercana\"\r\n",
        "x0=float(input(\"Da la aproximacion:\"))\r\n",
        "\r\n",
        "y=int(input(\"Da el numero de  iteraciones:\"))\r\n",
        "def f(x):\r\n",
        "    return 3*x**2+2*x-100\r\n",
        "\r\n",
        "def Df(x):\r\n",
        "    return 6*x+2\r\n",
        "\r\n",
        "\r\n",
        "i=1\r\n",
        "fx = [] \r\n",
        "c= []\r\n",
        "for ceros in range(y):\r\n",
        "    s = 0\r\n",
        "    c.append(s)\r\n",
        "#aqui damos el numero de iteraciones, las cuales seran introducidas por el usuario\r\n",
        "for iteracion in range(1,y+1):\r\n",
        "    x1=x0-f(x0)/Df(x0) #se aplica el metodo de Newton raphson\r\n",
        "    x0=x1 #x0 ahora vale lo que valia x1 es decir se empieza a iterar\r\n",
        "    fx.append(x1)\r\n",
        "    print(\"la iteracion numero\",i,\"da la raiz aproximada:\",x0)\r\n",
        "    i= i+1"
      ],
      "execution_count": null,
      "outputs": []
    },
    {
      "cell_type": "code",
      "metadata": {
        "id": "bz9JSSoUsVX_"
      },
      "source": [
        "x=np.linspace(-7, 7, 100)\r\n",
        "plt.plot(x,3*x**2+2*x-100)\r\n",
        "plt.plot(fx,c,'o')\r\n",
        "plt.grid()\r\n",
        "plt.axhline(0,color='black')\r\n",
        "plt.axvline(0,color='black')\r\n",
        "plt.show()"
      ],
      "execution_count": null,
      "outputs": []
    },
    {
      "cell_type": "markdown",
      "metadata": {
        "id": "xyDUxt6KMCoM"
      },
      "source": [
        "Con tres iteraciones la primera raiz aproximada nos da -6.116450524299159\r\n",
        "\r\n",
        "Mientras que la segunda con tres iteraciones nos queda 5.4497838578416395"
      ]
    },
    {
      "cell_type": "markdown",
      "metadata": {
        "id": "koOkdEv8N_tM"
      },
      "source": [
        "Encontrar la raiz de la funcion $\\sqrt{x}-6$\r\n",
        "\r\n",
        "Derivada: $\\frac{1}{2\\sqrt{x}}$"
      ]
    },
    {
      "cell_type": "code",
      "metadata": {
        "id": "tuN8tveaN54j"
      },
      "source": [
        "#Primero graficamos la funcion para averiguar una aproximacion a la raiz:\r\n",
        "\r\n",
        "x=np.linspace(0, 100, 100)\r\n",
        "plt.plot(x,x**0.5-6)\r\n",
        "plt.grid()\r\n",
        "plt.show()"
      ],
      "execution_count": null,
      "outputs": []
    },
    {
      "cell_type": "code",
      "metadata": {
        "id": "m0dZJ_hbL97G"
      },
      "source": [
        "#como hemos visto la grafica entonces un valor sugerido para la aproximacion es 40\r\n",
        "x0=float(input(\"Da la aproximacion:\"))\r\n",
        "\r\n",
        "y=int(input(\"Da el numero de  iteraciones:\"))\r\n",
        "def f(x):\r\n",
        "    return x**0.5-6\r\n",
        "\r\n",
        "def Df(x):\r\n",
        "    return 1/(2*(x**0.5))\r\n",
        "\r\n",
        "\r\n",
        "i=1\r\n",
        "fx = [] \r\n",
        "c= []\r\n",
        "for ceros in range(y):\r\n",
        "    s = 0\r\n",
        "    c.append(s)\r\n",
        "#aqui damos el numero de iteraciones, las cuales seran introducidas por el usuario\r\n",
        "for iteracion in range(1,y+1):\r\n",
        "    x1=x0-f(x0)/Df(x0) #se aplica el metodo de Newton raphson\r\n",
        "    x0=x1 #x0 ahora vale lo que valia x1 es decir se empieza a iterar\r\n",
        "    fx.append(x1)\r\n",
        "    print(\"la iteracion numero\",i,\"da la raiz aproximada:\",x0)\r\n",
        "    i= i+1"
      ],
      "execution_count": null,
      "outputs": []
    },
    {
      "cell_type": "code",
      "metadata": {
        "id": "AaB4G1VotQ_L"
      },
      "source": [
        "x=np.linspace(0, 100, 100)\r\n",
        "plt.plot(x,x**0.5-6)\r\n",
        "plt.plot(fx,c,'o')\r\n",
        "plt.grid()\r\n",
        "plt.axhline(0,color='black')\r\n",
        "plt.axvline(0,color='black')\r\n",
        "plt.show()"
      ],
      "execution_count": null,
      "outputs": []
    }
  ]
}