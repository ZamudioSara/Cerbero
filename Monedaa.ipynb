{
 "cells": [
  {
   "cell_type": "markdown",
   "metadata": {},
   "source": [
    "1) Hacer un programa que realice una grafica del valor al que converge la probabilidad de tirar una moneda N veces (hay un resultado para Águila y uno para Sol)."
   ]
  },
  {
   "cell_type": "code",
   "execution_count": 1,
   "metadata": {},
   "outputs": [],
   "source": [
    "import numpy as np\n",
    "import random as rnd\n",
    "import matplotlib.pyplot as plt"
   ]
  },
  {
   "cell_type": "markdown",
   "metadata": {},
   "source": [
    "importamos las librerias "
   ]
  },
  {
   "cell_type": "code",
   "execution_count": 5,
   "metadata": {},
   "outputs": [
    {
     "name": "stdout",
     "output_type": "stream",
     "text": [
      "Aguila\n"
     ]
    }
   ],
   "source": [
    "x = rnd.random()\n",
    "if x > 0.5:\n",
    "    print (\"Aguila\")\n",
    "else:\n",
    "    print (\"Sol\")"
   ]
  },
  {
   "cell_type": "code",
   "execution_count": 6,
   "metadata": {},
   "outputs": [
    {
     "name": "stdout",
     "output_type": "stream",
     "text": [
      "Aguila\n",
      "Sol\n",
      "Sol\n",
      "Sol\n",
      "Aguila\n",
      "Aguila\n",
      "Sol\n",
      "Aguila\n",
      "Sol\n",
      "Aguila\n"
     ]
    }
   ],
   "source": [
    "N = 10\n",
    "\n",
    "for i in range(N):\n",
    "    x = rnd.random()\n",
    "    if x > 0.5:\n",
    "        print (\"Aguila\")\n",
    "    else:\n",
    "        print (\"Sol\")"
   ]
  },
  {
   "cell_type": "code",
   "execution_count": 83,
   "metadata": {},
   "outputs": [
    {
     "name": "stdout",
     "output_type": "stream",
     "text": [
      "0.5007\n",
      "0.4993\n"
     ]
    }
   ],
   "source": [
    "N = 100000\n",
    "A = 0\n",
    "S = 0\n",
    "pA = 0\n",
    "pS = 0\n",
    "pA = []\n",
    "pS = []\n",
    "Aguila =[]\n",
    "Sol =[]\n",
    "for i in range(N):\n",
    "\n",
    "    x = rnd.random()\n",
    "    \n",
    "    if x > 0.5:\n",
    "        A = A + 1  \n",
    "        Aguila.append(pA)\n",
    "        pA =float(A)/float(N)\n",
    "    else:\n",
    "        S = S + 1 \n",
    "        Sol.append(pS)\n",
    "        pS = float(S)/float(N)\n",
    "        \n",
    "print(pA)\n",
    "print(pS)\n"
   ]
  },
  {
   "cell_type": "code",
   "execution_count": 85,
   "metadata": {},
   "outputs": [
    {
     "data": {
      "text/plain": [
       "<function matplotlib.pyplot.show(*args, **kw)>"
      ]
     },
     "execution_count": 85,
     "metadata": {},
     "output_type": "execute_result"
    },
    {
     "data": {
      "image/png": "[encoded data removed]",
      "text/plain": [
       "<Figure size 432x288 with 1 Axes>"
      ]
     },
     "metadata": {
      "needs_background": "light"
     },
     "output_type": "display_data"
    }
   ],
   "source": [
    "import matplotlib.pyplot as plt\n",
    "plt.plot(pS,pA,'.')\n",
    "plt.title(\"Grafica\" )\n",
    "plt.xlabel(\"$Aguila$\")\n",
    "plt.ylabel(\"$sol$\")\n",
    "plt.show"
   ]
  },
  {
   "cell_type": "code",
   "execution_count": null,
   "metadata": {},
   "outputs": [],
   "source": []
  }
 ],
 "metadata": {
  "kernelspec": {
   "display_name": "Python 3",
   "language": "python",
   "name": "python3"
  },
  "language_info": {
   "codemirror_mode": {
    "name": "ipython",
    "version": 3
   },
   "file_extension": ".py",
   "mimetype": "text/x-python",
   "name": "python",
   "nbconvert_exporter": "python",
   "pygments_lexer": "ipython3",
   "version": "3.8.3"
  }
 },
 "nbformat": 4,
 "nbformat_minor": 4
}
