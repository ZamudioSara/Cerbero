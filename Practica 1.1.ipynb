{
 "cells": [
  {
   "cell_type": "code",
   "execution_count": 2,
   "metadata": {},
   "outputs": [
    {
     "name": "stdout",
     "output_type": "stream",
     "text": [
      "zambook\n"
     ]
    }
   ],
   "source": [
    "%%bash\n",
    "whoami"
   ]
  },
  {
   "cell_type": "code",
   "execution_count": 3,
   "metadata": {},
   "outputs": [
    {
     "name": "stdout",
     "output_type": "stream",
     "text": [
      "Tue Oct 20 23:22:01 CDT 2020\n"
     ]
    }
   ],
   "source": [
    "%%bash\n",
    "date"
   ]
  },
  {
   "cell_type": "markdown",
   "metadata": {},
   "source": [
    "significa la zona horaria; CDT (Hora De Verano Central), UTC (Tiempo Universal Coordinado)"
   ]
  },
  {
   "cell_type": "code",
   "execution_count": 4,
   "metadata": {},
   "outputs": [
    {
     "name": "stdout",
     "output_type": "stream",
     "text": [
      "   February 1911      \n",
      "Su Mo Tu We Th Fr Sa  \n",
      "          1  2  3  4  \n",
      " 5  6  7  8  9 10 11  \n",
      "12 13 14 15 16 17 18  \n",
      "19 20 21 22 23 24 25  \n",
      "26 27 28              \n",
      "                      \n"
     ]
    }
   ],
   "source": [
    "%%bash\n",
    "cal 2 1911"
   ]
  },
  {
   "cell_type": "markdown",
   "metadata": {},
   "source": [
    "el nacimiento de Carlos Graef fue un sabado"
   ]
  },
  {
   "cell_type": "code",
   "execution_count": 5,
   "metadata": {},
   "outputs": [
    {
     "name": "stdout",
     "output_type": "stream",
     "text": [
      "                            1913\n",
      "      January               February               March          \n",
      "Su Mo Tu We Th Fr Sa  Su Mo Tu We Th Fr Sa  Su Mo Tu We Th Fr Sa  \n",
      "          1  2  3  4                     1                     1  \n",
      " 5  6  7  8  9 10 11   2  3  4  5  6  7  8   2  3  4  5  6  7  8  \n",
      "12 13 14 15 16 17 18   9 10 11 12 13 14 15   9 10 11 12 13 14 15  \n",
      "19 20 21 22 23 24 25  16 17 18 19 20 21 22  16 17 18 19 20 21 22  \n",
      "26 27 28 29 30 31     23 24 25 26 27 28     23 24 25 26 27 28 29  \n",
      "                                            30 31                 \n",
      "\n",
      "       April                  May                   June          \n",
      "Su Mo Tu We Th Fr Sa  Su Mo Tu We Th Fr Sa  Su Mo Tu We Th Fr Sa  \n",
      "       1  2  3  4  5               1  2  3   1  2  3  4  5  6  7  \n",
      " 6  7  8  9 10 11 12   4  5  6  7  8  9 10   8  9 10 11 12 13 14  \n",
      "13 14 15 16 17 18 19  11 12 13 14 15 16 17  15 16 17 18 19 20 21  \n",
      "20 21 22 23 24 25 26  18 19 20 21 22 23 24  22 23 24 25 26 27 28  \n",
      "27 28 29 30           25 26 27 28 29 30 31  29 30                 \n",
      "                                                                  \n",
      "\n",
      "        July                 August              September        \n",
      "Su Mo Tu We Th Fr Sa  Su Mo Tu We Th Fr Sa  Su Mo Tu We Th Fr Sa  \n",
      "       1  2  3  4  5                  1  2      1  2  3  4  5  6  \n",
      " 6  7  8  9 10 11 12   3  4  5  6  7  8  9   7  8  9 10 11 12 13  \n",
      "13 14 15 16 17 18 19  10 11 12 13 14 15 16  14 15 16 17 18 19 20  \n",
      "20 21 22 23 24 25 26  17 18 19 20 21 22 23  21 22 23 24 25 26 27  \n",
      "27 28 29 30 31        24 25 26 27 28 29 30  28 29 30              \n",
      "                      31                                          \n",
      "\n",
      "      October               November              December        \n",
      "Su Mo Tu We Th Fr Sa  Su Mo Tu We Th Fr Sa  Su Mo Tu We Th Fr Sa  \n",
      "          1  2  3  4                     1      1  2  3  4  5  6  \n",
      " 5  6  7  8  9 10 11   2  3  4  5  6  7  8   7  8  9 10 11 12 13  \n",
      "12 13 14 15 16 17 18   9 10 11 12 13 14 15  14 15 16 17 18 19 20  \n",
      "19 20 21 22 23 24 25  16 17 18 19 20 21 22  21 22 23 24 25 26 27  \n",
      "26 27 28 29 30 31     23 24 25 26 27 28 29  28 29 30 31           \n",
      "                      30                                          \n"
     ]
    }
   ],
   "source": [
    "%%bash\n",
    "cal 1913"
   ]
  },
  {
   "cell_type": "markdown",
   "metadata": {},
   "source": [
    "El nacimiento de  Alberto Barajas es el dia narural 198 y fue un jueves "
   ]
  },
  {
   "cell_type": "code",
   "execution_count": 6,
   "metadata": {},
   "outputs": [
    {
     "name": "stdout",
     "output_type": "stream",
     "text": [
      "Linux DESKTOP-D4EUJCN 4.4.0-18362-Microsoft #1049-Microsoft Thu Aug 14 12:01:00 PST 2020 x86_64 x86_64 x86_64 GNU/Linux\n"
     ]
    }
   ],
   "source": [
    "%%bash\n",
    "uname -a"
   ]
  },
  {
   "cell_type": "markdown",
   "metadata": {},
   "source": [
    "Mi version de kernel es:4.4.0-18362-Microsoft"
   ]
  },
  {
   "cell_type": "code",
   "execution_count": null,
   "metadata": {},
   "outputs": [],
   "source": []
  }
 ],
 "metadata": {
  "kernelspec": {
   "display_name": "Python 3",
   "language": "python",
   "name": "python3"
  },
  "language_info": {
   "codemirror_mode": {
    "name": "ipython",
    "version": 3
   },
   "file_extension": ".py",
   "mimetype": "text/x-python",
   "name": "python",
   "nbconvert_exporter": "python",
   "pygments_lexer": "ipython3",
   "version": "3.8.3"
  }
 },
 "nbformat": 4,
 "nbformat_minor": 4
}
