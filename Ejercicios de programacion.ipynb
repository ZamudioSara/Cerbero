{
 "cells": [
  {
   "cell_type": "markdown",
   "metadata": {},
   "source": [
    "1. a) Calcular el promedio de dos números a y b introducidos por el usuario."
   ]
  },
  {
   "cell_type": "code",
   "execution_count": 1,
   "metadata": {},
   "outputs": [
    {
     "name": "stdout",
     "output_type": "stream",
     "text": [
      "Introduce el número a: 5\n",
      "Introduce el número b: 9\n",
      "El promedio de a y b es: 7.0\n"
     ]
    }
   ],
   "source": [
    "n1 = float(input(\"Introduce el número a: \") )\n",
    "#Asigno un valor a n1 colocando el input para que el usuario intrudusca el número \n",
    "n2 = float(input(\"Introduce el número b: \") )\n",
    "n3= n1+n2\n",
    "#coloco  una nueva variable que me ayudara para sacar el promedio de ambos números \n",
    "print(\"El promedio de a y b es:\", n3/2)"
   ]
  },
  {
   "cell_type": "markdown",
   "metadata": {},
   "source": [
    "b)La suma desde 0 hasta un numero n introducido por el usuario."
   ]
  },
  {
   "cell_type": "code",
   "execution_count": 2,
   "metadata": {},
   "outputs": [
    {
     "name": "stdout",
     "output_type": "stream",
     "text": [
      "Introduce el número: 5\n",
      "La suma de los números es 15\n"
     ]
    }
   ],
   "source": [
    "N = int(input(\"Introduce el número: \") )\n",
    "#pido al usuario que me de un numero\n",
    "x= 0\n",
    "#Le asigno el valor de 0 a x para poder empezar el conteo\n",
    "for i in range(0, N+1):\n",
    "       x= x + i\n",
    "#hago un for que empiece en 0 y termine en N+1\n",
    "print(f\"La suma de los números es {x}\")"
   ]
  },
  {
   "cell_type": "markdown",
   "metadata": {},
   "source": [
    "c) Calcular el factorial de un numero introducido por el usuario."
   ]
  },
  {
   "cell_type": "code",
   "execution_count": 5,
   "metadata": {},
   "outputs": [
    {
     "name": "stdout",
     "output_type": "stream",
     "text": [
      "Introduce el número: 5\n",
      "El factorial de 5 es  120\n"
     ]
    }
   ],
   "source": [
    "n = int(input(\"Introduce el número: \") )\n",
    "x = 1\n",
    "#declaro el factorial\n",
    "for i in range(2, n+1):\n",
    "    x = x*i\n",
    "    #Realizo la multiplicacion\n",
    "print(f\"El factorial de {n} es  {x}\")"
   ]
  },
  {
   "cell_type": "markdown",
   "metadata": {},
   "source": [
    "d) Calcular la potencia de un numero a (introducido por el usuario) a la potencia b\n",
    "(también introducida por el usuario)"
   ]
  },
  {
   "cell_type": "code",
   "execution_count": 6,
   "metadata": {},
   "outputs": [
    {
     "name": "stdout",
     "output_type": "stream",
     "text": [
      "Introduce el número: 4\n",
      "Introduce el número: 3\n",
      "Potencia de 4 a la 3 = 64\n"
     ]
    }
   ],
   "source": [
    "n1 = int(input(\"Introduce el número: \") )\n",
    "n2 = int(input(\"Introduce el número: \") )\n",
    "#Declaro a n1 y n2 para que el usuario coloque sus valores\n",
    "for i in range(0,1):\n",
    "    #Hago un for que empiece en 0 y termine en 1 para que solo se haga una vez\n",
    "  print('Potencia de {} a la {} = {}'.format(n1, n2, n1**n2))"
   ]
  },
  {
   "cell_type": "markdown",
   "metadata": {},
   "source": [
    "2. Calcular la combinatoria de n, en r. Apóyate en la siguiente expresión."
   ]
  },
  {
   "cell_type": "markdown",
   "metadata": {},
   "source": [
    "$$c_{n}^{r}= \\left (\\frac{n}{r}\\right ) = \\frac{n!}{(n-r)!r!}$$"
   ]
  },
  {
   "cell_type": "code",
   "execution_count": 5,
   "metadata": {},
   "outputs": [
    {
     "name": "stdout",
     "output_type": "stream",
     "text": [
      "Introduce el número n: 5\n",
      "Introduce el número r: 4\n",
      "La combinatoria de  n =5 r= 4 es  5.0\n"
     ]
    }
   ],
   "source": [
    "fn = int(input(\"Introduce el número n: \") )\n",
    "r = int(input(\"Introduce el número r: \") )\n",
    "x = 1\n",
    "y = 1\n",
    "h=1\n",
    "#z = 1\n",
    "#declaro el factorial\n",
    "for i in range(2, fn+1):\n",
    "    x = x*i \n",
    "for i in range(2, r+1):\n",
    "    y = y*i\n",
    "    \n",
    "z =(fn - r )\n",
    "\n",
    "for i in range(2, z+1):\n",
    "    h = h*i \n",
    "\n",
    "w = x/(h*y)\n",
    "    \n",
    "    #Realizo la multiplicacion\n",
    "print(f\"La combinatoria de  n ={fn} r= {r} es  {w}\")"
   ]
  },
  {
   "cell_type": "markdown",
   "metadata": {},
   "source": [
    "3. Siguiendo la siguiente serie"
   ]
  },
  {
   "cell_type": "markdown",
   "metadata": {},
   "source": [
    "$$\\sum_{n=0}^{\\infty} \\frac{(-1)^{n}}{2n+1}=\\frac{\\pi}{4}$$"
   ]
  },
  {
   "cell_type": "markdown",
   "metadata": {},
   "source": [
    "Escribe un programa que calcule diferentes aproximaciones de π para diferentes\n",
    "valores."
   ]
  },
  {
   "cell_type": "code",
   "execution_count": 2,
   "metadata": {},
   "outputs": [
    {
     "name": "stdout",
     "output_type": "stream",
     "text": [
      "Introduce el número: 21\n",
      "El resultado es:3.189184782277596\n"
     ]
    }
   ],
   "source": [
    "w = int(input(\"Introduce el número: \") )\n",
    "\n",
    "if w > 0:\n",
    "    q = 0\n",
    "\n",
    "    for i in range(0,w):\n",
    "        q = q + 4*((pow(-1,i))/(2*i+1))\n",
    "\n",
    "    print(f\"El resultado es:{q}\")\n",
    "\n",
    "else:\n",
    "\n",
    "    print(f\"vuelva a ingresar un numero\")"
   ]
  },
  {
   "cell_type": "markdown",
   "metadata": {},
   "source": [
    "4.Siguiendo la siguiente serie\n",
    "$$\\sum_{n=0}^{\\infty} \\frac{1}{n!}=e$$"
   ]
  },
  {
   "cell_type": "code",
   "execution_count": 1,
   "metadata": {},
   "outputs": [
    {
     "name": "stdout",
     "output_type": "stream",
     "text": [
      "Introduce el número n: 500\n",
      "El valor aproximado de e con   n=500 es  2.715568520651728\n"
     ]
    }
   ],
   "source": [
    "f = int(input(\"Introduce el número n: \") )\n",
    "x = 1\n",
    "for i in range(2, f+1):\n",
    "    x = x*i   \n",
    "z= (1+(1 /f ))**f\n",
    "#z =(1 /x )\n",
    "\n",
    "   \n",
    "print(f\"El valor aproximado de e con   n={f} es  {z}\")\n"
   ]
  },
  {
   "cell_type": "markdown",
   "metadata": {},
   "source": [
    "5. Calcular las raíces de un polinomio cuadrático. El usuario debe proporcionar los\n",
    "coeficientes de la ecuación de 2° orden. El programa debe considerar los casos de \n",
    "i)raíces reales\n",
    "ii) raíz doble\n",
    "iii) raíces complejas."
   ]
  },
  {
   "cell_type": "code",
   "execution_count": 10,
   "metadata": {},
   "outputs": [
    {
     "name": "stdout",
     "output_type": "stream",
     "text": [
      "Ingrese el coeficiente de la variable cuadrática\n",
      "2\n",
      "Ingrese el coeficiente de la variable lineal\n",
      "-7\n",
      "Ingrese el término independiente\n",
      "3\n",
      "Las soluciones de la ecuación son:\n",
      "3.0\n",
      "0.5\n"
     ]
    }
   ],
   "source": [
    "from math import sqrt\n",
    "a = int(input(\"Ingrese el coeficiente de la variable cuadrática\\n\"))\n",
    "b = int(input(\"Ingrese el coeficiente de la variable lineal\\n\"))\n",
    "c = int(input(\"Ingrese el término independiente\\n\"))\n",
    "x1= 0\n",
    "x2= 0\n",
    "if ((b**2)-4*a*c) < 0:\n",
    "  print(\"La solución de la ecuación es con números complejos\")\n",
    "else:\n",
    "  x1 = (-b+sqrt(b**2-(4*a*c)))/(2*a)\n",
    "  x2 = (-b-sqrt(b**2-(4*a*c)))/(2*a)\n",
    "  print(\"Las soluciones de la ecuación son:\")\n",
    "  print(x1)\n",
    "  print(x2)"
   ]
  },
  {
   "cell_type": "markdown",
   "metadata": {},
   "source": [
    "6. Escribe un programa que calcule el producto cruz de dos vectores en $\\mathbb{R}^{3}$, el usuario debe insertar las entradas de los vectores."
   ]
  },
  {
   "cell_type": "code",
   "execution_count": 4,
   "metadata": {},
   "outputs": [
    {
     "name": "stdout",
     "output_type": "stream",
     "text": [
      "Dame los valores del V1:\n",
      "Introduce un número: 2\n",
      "Introduce un número: -1\n",
      "Introduce un número: 1\n",
      "Dame los valores del V2:\n",
      "Introduce un número: -3\n",
      "Introduce un número: 1\n",
      "Introduce un número: 1\n",
      "V1 es (2, -1, 1)\n",
      "V2 es (-3, 1, 1)\n",
      "El producto cruz de los vectores V1 y V2 es:  -2i -5j 1k\n"
     ]
    }
   ],
   "source": [
    "print(\"Dame los valores del V1:\")\n",
    "v1 = int(input(\"Introduce un número: \") )\n",
    "v2 = int(input(\"Introduce un número: \") )\n",
    "v3 = int(input(\"Introduce un número: \") )\n",
    "print(\"Dame los valores del V2:\")\n",
    "v4 = int(input(\"Introduce un número: \") )\n",
    "v5= int(input(\"Introduce un número: \") )\n",
    "v6= int(input(\"Introduce un número: \") )\n",
    "\n",
    "V1 = (v1,v2,v3)\n",
    "V2 = (v4,v5,v6)\n",
    "print(f\"V1 es {V1}\")\n",
    "print(f\"V2 es {V2}\")\n",
    " \n",
    "i = +((v2*v6)-(v3*v5))\n",
    "j = -((v1*v6)-(v4*v3))\n",
    "k = -((v1*v5)-(v4*v2))\n",
    "print(f\"El producto cruz de los vectores V1 y V2 es:  {i}i {j}j {k}k\")"
   ]
  },
  {
   "cell_type": "markdown",
   "metadata": {},
   "source": [
    "7. a) Escribe un programa que sume dos vectores en $\\mathbb{R}^{3}$, el usuario debe insertar las entradas de los vectores."
   ]
  },
  {
   "cell_type": "code",
   "execution_count": 14,
   "metadata": {},
   "outputs": [
    {
     "name": "stdout",
     "output_type": "stream",
     "text": [
      "Dame los valores del V1:\n",
      "Introduce un número: 1\n",
      "Introduce un número: 2\n",
      "Introduce un número: 3\n",
      "Dame los valores del V2:\n",
      "Introduce un número: 4\n",
      "Introduce un número: 5\n",
      "Introduce un número: 6\n",
      "V1 es (1, 2, 3)\n",
      "V2 es (4, 5, 6)\n",
      "La suma de los vectores V1 y V2 es:  (5, 7, 9)\n"
     ]
    }
   ],
   "source": [
    "print(\"Dame los valores del V1:\")\n",
    "s1 = int(input(\"Introduce un número: \") )\n",
    "s2 = int(input(\"Introduce un número: \") )\n",
    "s3 = int(input(\"Introduce un número: \") )\n",
    "print(\"Dame los valores del V2:\")\n",
    "s4 = int(input(\"Introduce un número: \") )\n",
    "s5= int(input(\"Introduce un número: \") )\n",
    "s6= int(input(\"Introduce un número: \") )\n",
    "S1 = (s1,s2,s3)\n",
    "S2 = (s4,s5,s6)\n",
    "print(f\"V1 es {S1}\")\n",
    "print(f\"V2 es {S2}\")\n",
    "\n",
    "suma = (s1+s4),(s2+s5),(s3+s6)\n",
    "print(f\"La suma de los vectores V1 y V2 es:  {suma}\")"
   ]
  },
  {
   "cell_type": "markdown",
   "metadata": {},
   "source": [
    "b) Escribe un programa que sume dos vectores en $\\mathbb{R}^{n}$ las entradas de los vectores deben leerse de un archivo de datos."
   ]
  },
  {
   "cell_type": "code",
   "execution_count": null,
   "metadata": {},
   "outputs": [],
   "source": []
  },
  {
   "cell_type": "markdown",
   "metadata": {},
   "source": [
    "8.a) Calcular el producto interior (producto punto) de dos vectores en $\\mathbb{R}^{3}$ el usuario debe insertar las entradas de los vectores."
   ]
  },
  {
   "cell_type": "code",
   "execution_count": 16,
   "metadata": {},
   "outputs": [
    {
     "name": "stdout",
     "output_type": "stream",
     "text": [
      "Dame los valores del V1:\n",
      "Introduce un número: 5\n",
      "Introduce un número: 7\n",
      "Introduce un número: 8\n",
      "Dame los valores del V2:\n",
      "Introduce un número: 9\n",
      "Introduce un número: -6\n",
      "Introduce un número: 4\n",
      "V1 es (5, 7, 8)\n",
      "V2 es (9, -6, 4)\n",
      "La suma de los vectores V1 y V2 es:  35\n"
     ]
    }
   ],
   "source": [
    "print(\"Dame los valores del V1:\")\n",
    "p1 = int(input(\"Introduce un número: \") )\n",
    "p2 = int(input(\"Introduce un número: \") )\n",
    "p3 = int(input(\"Introduce un número: \") )\n",
    "print(\"Dame los valores del V2:\")\n",
    "p4 = int(input(\"Introduce un número: \") )\n",
    "p5= int(input(\"Introduce un número: \") )\n",
    "p6= int(input(\"Introduce un número: \") )\n",
    "P1 = (p1,p2,p3)\n",
    "P2 = (p4,p5,p6)\n",
    "print(f\"V1 es {P1}\")\n",
    "print(f\"V2 es {P2}\")\n",
    "punto = (p1 * p4) + (p2 * p5) + (p3 * p6)\n",
    "print(f\"La suma de los vectores V1 y V2 es:  {punto}\")\n"
   ]
  },
  {
   "cell_type": "markdown",
   "metadata": {},
   "source": [
    "b) Escribe un programa que realice el producto interior (producto punto) de dos vectores en $\\mathbb{R}^{n}$ las entradas de los vectores deben leerse de un archivo.\n",
    "(Recuerda nuevamente que esto solo tiene sentido si los vectores son de la misma dimensión)."
   ]
  },
  {
   "cell_type": "code",
   "execution_count": null,
   "metadata": {},
   "outputs": [],
   "source": []
  },
  {
   "cell_type": "markdown",
   "metadata": {},
   "source": [
    "9. a) Sumar dos matrices en $\\mathbb{R}^{2x2}$ , el usuario debe insertar las entradas de las matrices."
   ]
  },
  {
   "cell_type": "code",
   "execution_count": 1,
   "metadata": {},
   "outputs": [
    {
     "name": "stdout",
     "output_type": "stream",
     "text": [
      "Introduce un número a:5\n",
      "Introduce un número b:7\n",
      "Introduce un número c:9\n",
      "Introduce un número d:8\n",
      "Introduce un número e:2\n",
      "Introduce un número f:3\n",
      "Introduce un número g:1\n",
      "Introduce un número:4\n",
      "la matriz N es:\n",
      "[[2 3]\n",
      " [1 4]]\n",
      "la matriz M es:\n",
      "[[5 7]\n",
      " [9 8]]\n",
      "El resultado es:[[ 7 10]\n",
      " [10 12]]\n"
     ]
    }
   ],
   "source": [
    "from numpy import array\n",
    "a=int(input(\"Introduce un número a:\"))\n",
    "b=int(input(\"Introduce un número b:\"))\n",
    "c=int(input(\"Introduce un número c:\"))\n",
    "d=int(input(\"Introduce un número d:\"))\n",
    "e=int(input(\"Introduce un número e:\"))\n",
    "f=int(input(\"Introduce un número f:\"))\n",
    "g=int(input(\"Introduce un número g:\"))\n",
    "h=int(input(\"Introduce un número:\"))\n",
    "\n",
    "M = array( [ [a, b], [c, d] ] )\n",
    "\n",
    "N = array( [ [e, f], [g, h] ] )\n",
    "\n",
    "print(\"la matriz N es:\")\n",
    "print(N)\n",
    "\n",
    "print(\"la matriz M es:\")\n",
    "print(M)\n",
    "\n",
    "print(f\"El resultado es:{M+N}\")\n"
   ]
  },
  {
   "cell_type": "code",
   "execution_count": null,
   "metadata": {},
   "outputs": [],
   "source": []
  }
 ],
 "metadata": {
  "kernelspec": {
   "display_name": "Python 3",
   "language": "python",
   "name": "python3"
  },
  "language_info": {
   "codemirror_mode": {
    "name": "ipython",
    "version": 3
   },
   "file_extension": ".py",
   "mimetype": "text/x-python",
   "name": "python",
   "nbconvert_exporter": "python",
   "pygments_lexer": "ipython3",
   "version": "3.8.3"
  }
 },
 "nbformat": 4,
 "nbformat_minor": 4
}
