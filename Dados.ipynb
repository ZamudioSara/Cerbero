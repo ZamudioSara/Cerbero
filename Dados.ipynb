{
 "cells": [
  {
   "cell_type": "code",
   "execution_count": 6,
   "metadata": {},
   "outputs": [],
   "source": [
    "from random import randint\n",
    "import numpy as np\n",
    "import matplotlib.pyplot as plt"
   ]
  },
  {
   "cell_type": "markdown",
   "metadata": {},
   "source": [
    " 2)Hacer un programa que realice  una grafica del valor al que converge la probabilidad de sacar un 3 al tirar un dado de 6 caras N veces "
   ]
  },
  {
   "cell_type": "code",
   "execution_count": 7,
   "metadata": {},
   "outputs": [
    {
     "name": "stdout",
     "output_type": "stream",
     "text": [
      "El primer dado obtuvo:  1\n",
      "El segundo dado obtuvo:  3\n",
      "La suma de ambos es:  4\n"
     ]
    }
   ],
   "source": [
    "import random\n",
    "\n",
    "lanzarp_dado = random.randint(1,6)\n",
    "lanzard_dado = random.randint(1,6)\n",
    "resultado = lanzarp_dado + lanzard_dado\n",
    "\n",
    "print(\"El primer dado obtuvo: \", lanzarp_dado)\n",
    "print(\"El segundo dado obtuvo: \", lanzard_dado)\n",
    "print(\"La suma de ambos es: \", resultado)"
   ]
  },
  {
   "cell_type": "code",
   "execution_count": 8,
   "metadata": {},
   "outputs": [
    {
     "name": "stdout",
     "output_type": "stream",
     "text": [
      "0.162\n"
     ]
    }
   ],
   "source": [
    "import random\n",
    "N = 10000\n",
    "A = 0\n",
    "S = 0\n",
    "\n",
    "pA = 0\n",
    "pS = 0\n",
    "pA = []\n",
    "pS = []\n",
    "Si =[]\n",
    "No =[]\n",
    "\n",
    "for i in range(N):\n",
    "\n",
    "    x = random.randint(1,6)\n",
    "    if x == 3:\n",
    "        A = A + 1 \n",
    "        Si.append(pA)\n",
    "        pA =float(A)/float(N)\n",
    "    else:\n",
    "        S = S + 1 \n",
    "        No.append(pS)\n",
    "        pS = float(S)/float(N)\n",
    "\n",
    "\n",
    "print(pA)\n"
   ]
  },
  {
   "cell_type": "code",
   "execution_count": 9,
   "metadata": {},
   "outputs": [
    {
     "data": {
      "text/plain": [
       "Text(0, 0.5, '$estres$')"
      ]
     },
     "execution_count": 9,
     "metadata": {},
     "output_type": "execute_result"
    },
    {
     "data": {
      "image/png": "[encoded data removed]",
      "text/plain": [
       "<Figure size 432x288 with 1 Axes>"
      ]
     },
     "metadata": {
      "needs_background": "light"
     },
     "output_type": "display_data"
    }
   ],
   "source": [
    "plt.plot(pA,pS,'.')\n",
    "plt.title(\"Grafica\")\n",
    "plt.xlabel(\"$noes3$\")\n",
    "plt.ylabel(\"$estres$\")"
   ]
  },
  {
   "cell_type": "markdown",
   "metadata": {},
   "source": [
    "3) Hacer un programa que realice  una grafica del valor al que converge la probabilidad de sacar un obtener 8 sumado de tirar 2 dados de 6 caras N veces, así como la de o obtenerlo)"
   ]
  },
  {
   "cell_type": "code",
   "execution_count": 10,
   "metadata": {},
   "outputs": [
    {
     "name": "stdout",
     "output_type": "stream",
     "text": [
      "0.068\n",
      "0.932\n"
     ]
    }
   ],
   "source": [
    "import random\n",
    "N = 1000\n",
    "A = 0\n",
    "S = 0\n",
    "\n",
    "pA = 0\n",
    "pS = 0\n",
    "pA = []\n",
    "pS = []\n",
    "Si =[]\n",
    "No =[]\n",
    "\n",
    "x = resultado\n",
    "\n",
    "for i in range(N):\n",
    "\n",
    "    x = random.randint(1,12)\n",
    "    \n",
    "    if x == 8:\n",
    "        A = A + 1  \n",
    "        Si.append(pA)\n",
    "        pA =float(A)/float(N)\n",
    "    else:\n",
    "        S = S + 1 \n",
    "        No.append(pS)\n",
    "        pS = float(S)/float(N)\n",
    "pA = float(A)/float(N)\n",
    "pS = float(S)/float(N)\n",
    "\n",
    "print(pA)\n",
    "print(pS)"
   ]
  },
  {
   "cell_type": "code",
   "execution_count": 29,
   "metadata": {},
   "outputs": [
    {
     "data": {
      "text/plain": [
       "Text(0, 0.5, '$estres$')"
      ]
     },
     "execution_count": 29,
     "metadata": {},
     "output_type": "execute_result"
    },
    {
     "data": {
      "image/png": "[encoded data removed]",
      "text/plain": [
       "<Figure size 432x288 with 1 Axes>"
      ]
     },
     "metadata": {
      "needs_background": "light"
     },
     "output_type": "display_data"
    }
   ],
   "source": [
    "plt.plot(pA,pS,'.')\n",
    "plt.title(\"Grafica\")\n",
    "plt.xlabel(\"$noes3$\")\n",
    "plt.ylabel(\"$estres$\")"
   ]
  },
  {
   "cell_type": "code",
   "execution_count": null,
   "metadata": {},
   "outputs": [],
   "source": []
  },
  {
   "cell_type": "code",
   "execution_count": null,
   "metadata": {},
   "outputs": [],
   "source": []
  }
 ],
 "metadata": {
  "kernelspec": {
   "display_name": "Python 3",
   "language": "python",
   "name": "python3"
  },
  "language_info": {
   "codemirror_mode": {
    "name": "ipython",
    "version": 3
   },
   "file_extension": ".py",
   "mimetype": "text/x-python",
   "name": "python",
   "nbconvert_exporter": "python",
   "pygments_lexer": "ipython3",
   "version": "3.8.3"
  }
 },
 "nbformat": 4,
 "nbformat_minor": 4
}
