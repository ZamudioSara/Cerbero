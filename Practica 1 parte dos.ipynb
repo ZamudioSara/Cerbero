{
 "cells": [
  {
   "cell_type": "code",
   "execution_count": 1,
   "metadata": {},
   "outputs": [
    {
     "name": "stdout",
     "output_type": "stream",
     "text": [
      "/mnt/c/Users/PC/Documents/Compu8093\n"
     ]
    }
   ],
   "source": [
    "%%bash\n",
    "pwd"
   ]
  },
  {
   "cell_type": "code",
   "execution_count": 2,
   "metadata": {},
   "outputs": [],
   "source": [
    "mkdir gonzalezzamudiosara"
   ]
  },
  {
   "cell_type": "code",
   "execution_count": 3,
   "metadata": {},
   "outputs": [
    {
     "name": "stdout",
     "output_type": "stream",
     "text": [
      "C:\\Users\\PC\\Documents\\Compu8093\\gonzalezzamudiosara\n"
     ]
    }
   ],
   "source": [
    "cd gonzalezzamudiosara/"
   ]
  },
  {
   "cell_type": "code",
   "execution_count": 4,
   "metadata": {},
   "outputs": [],
   "source": [
    "mkdir gonzalez"
   ]
  },
  {
   "cell_type": "code",
   "execution_count": 5,
   "metadata": {},
   "outputs": [],
   "source": [
    "mkdir zamudio"
   ]
  },
  {
   "cell_type": "code",
   "execution_count": 6,
   "metadata": {},
   "outputs": [
    {
     "name": "stdout",
     "output_type": "stream",
     "text": [
      "C:\\Users\\PC\\Documents\\Compu8093\\gonzalezzamudiosara\\gonzalez\n"
     ]
    }
   ],
   "source": [
    "cd gonzalez"
   ]
  },
  {
   "cell_type": "code",
   "execution_count": 8,
   "metadata": {},
   "outputs": [],
   "source": [
    "%%bash\n",
    "touch .pizza "
   ]
  },
  {
   "cell_type": "code",
   "execution_count": 37,
   "metadata": {
    "scrolled": true
   },
   "outputs": [
    {
     "name": "stdout",
     "output_type": "stream",
     "text": [
      "C:\\Users\\PC\n"
     ]
    }
   ],
   "source": [
    "cd~"
   ]
  },
  {
   "cell_type": "code",
   "execution_count": 38,
   "metadata": {},
   "outputs": [
    {
     "name": "stdout",
     "output_type": "stream",
     "text": [
      "C:\\Users\\PC\\Documents\\Compu8093\\gonzalezzamudiosara\\zamudio\n"
     ]
    }
   ],
   "source": [
    "cd Documents/Compu8093/gonzalezzamudiosara/zamudio/"
   ]
  },
  {
   "cell_type": "code",
   "execution_count": 39,
   "metadata": {},
   "outputs": [],
   "source": [
    "%%bash\n",
    "touch tacos "
   ]
  },
  {
   "cell_type": "code",
   "execution_count": 40,
   "metadata": {},
   "outputs": [
    {
     "name": "stdout",
     "output_type": "stream",
     "text": [
      "C:\\Users\\PC\n"
     ]
    }
   ],
   "source": [
    "cd~"
   ]
  },
  {
   "cell_type": "code",
   "execution_count": 41,
   "metadata": {},
   "outputs": [
    {
     "name": "stdout",
     "output_type": "stream",
     "text": [
      "C:\\Users\\PC\\Documents\\Compu8093\\gonzalezzamudiosara\n"
     ]
    }
   ],
   "source": [
    "cd Documents/Compu8093/gonzalezzamudiosara/"
   ]
  },
  {
   "cell_type": "code",
   "execution_count": 45,
   "metadata": {},
   "outputs": [
    {
     "name": "stdout",
     "output_type": "stream",
     "text": [
      " El volumen de la unidad C no tiene etiqueta.\n",
      " El número de serie del volumen es: A8CA-5EAD\n",
      "\n",
      " Directorio de C:\\Users\\PC\\Documents\\Compu8093\\gonzalezzamudiosara\n",
      "\n",
      "21/10/2020  12:44 a. m.    <DIR>          .\n",
      "21/10/2020  12:44 a. m.    <DIR>          ..\n",
      "21/10/2020  01:15 a. m.    <DIR>          gonzalez\n",
      "21/10/2020  01:16 a. m.    <DIR>          zamudio\n",
      "               0 archivos              0 bytes\n",
      "               4 dirs  947,929,481,216 bytes libres\n"
     ]
    }
   ],
   "source": [
    "ls"
   ]
  },
  {
   "cell_type": "markdown",
   "metadata": {},
   "source": [
    "Cuando ejecuto cd~ me regresa a mi primer directorio, si ejecuto ls me da una lista de mis directorios en ese directorio, si creo el archivo touch con un punto me lo marca con error tengo que poner el comado magico de %%bash para que se puede ejecutar y tambien para que me salga en nombre con el punto en mi caso \".pizza\" "
   ]
  },
  {
   "cell_type": "code",
   "execution_count": null,
   "metadata": {},
   "outputs": [],
   "source": []
  }
 ],
 "metadata": {
  "kernelspec": {
   "display_name": "Python 3",
   "language": "python",
   "name": "python3"
  },
  "language_info": {
   "codemirror_mode": {
    "name": "ipython",
    "version": 3
   },
   "file_extension": ".py",
   "mimetype": "text/x-python",
   "name": "python",
   "nbconvert_exporter": "python",
   "pygments_lexer": "ipython3",
   "version": "3.8.3"
  }
 },
 "nbformat": 4,
 "nbformat_minor": 4
}
